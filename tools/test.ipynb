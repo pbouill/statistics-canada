{
 "cells": [
  {
   "cell_type": "code",
   "execution_count": 1,
   "id": "55887ff1",
   "metadata": {},
   "outputs": [],
   "source": [
    "%load_ext autoreload\n",
    "%autoreload 2   "
   ]
  },
  {
   "cell_type": "code",
   "execution_count": null,
   "id": "2590a09a",
   "metadata": {},
   "outputs": [],
   "source": [
    "from typing import Any\n",
    "import re\n",
    "from enum import Enum"
   ]
  },
  {
   "cell_type": "code",
   "execution_count": 16,
   "id": "589af063",
   "metadata": {},
   "outputs": [],
   "source": [
    "from tools.writer import EnumEntry, enum_file, write_enum_class, AUTO_ENUMS_PATH"
   ]
  },
  {
   "cell_type": "code",
   "execution_count": 4,
   "id": "05730810",
   "metadata": {},
   "outputs": [],
   "source": [
    "from statscan.wds.client import WDS"
   ]
  },
  {
   "cell_type": "code",
   "execution_count": 5,
   "id": "9f33b853",
   "metadata": {},
   "outputs": [],
   "source": [
    "client = WDS()"
   ]
  },
  {
   "cell_type": "code",
   "execution_count": 6,
   "id": "dea9cc39",
   "metadata": {},
   "outputs": [],
   "source": [
    "codesets: dict = await client.getCodeSets()"
   ]
  },
  {
   "cell_type": "code",
   "execution_count": 7,
   "id": "f7e2e599",
   "metadata": {},
   "outputs": [],
   "source": [
    "o: dict[str, list[dict[str, str]]] = codesets['object']"
   ]
  },
  {
   "cell_type": "code",
   "execution_count": 8,
   "id": "674ddcf7",
   "metadata": {},
   "outputs": [],
   "source": [
    "def get_keys(entry_dict: dict[str, Any]) -> tuple[str, str, set[str]]:\n",
    "    '''\n",
    "    get the key-key, value-key, and remaining keys\n",
    "    '''\n",
    "    remaining_keys = set()\n",
    "    key_key = None\n",
    "    value_key = None\n",
    "\n",
    "    for k in entry_dict.keys():\n",
    "        if k.endswith(\"DescEn\"):\n",
    "            key_key = k\n",
    "        elif k.endswith(\"Code\"):\n",
    "            value_key = k\n",
    "        else:\n",
    "            remaining_keys.add(k)\n",
    "    \n",
    "    if key_key is None:\n",
    "        for k in entry_dict.keys():\n",
    "            if k.endswith(\"En\"):\n",
    "                key_key = k\n",
    "                remaining_keys.remove(k)\n",
    "                break\n",
    "        if key_key is None:\n",
    "            raise ValueError(f\"Could not find key key for enum. Possible keys are {entry_dict.keys()}\")\n",
    "    if value_key is None:\n",
    "        for k in entry_dict.keys():\n",
    "            if k.endswith(\"Id\"):\n",
    "                value_key = k\n",
    "                remaining_keys.remove(k)\n",
    "                break\n",
    "        if value_key is None:\n",
    "            raise ValueError(f\"Could not find value key for enum. Possible keys are {entry_dict.keys()}\")\n",
    "\n",
    "    return key_key, value_key, remaining_keys\n"
   ]
  },
  {
   "cell_type": "code",
   "execution_count": 14,
   "id": "ec57bcf7",
   "metadata": {},
   "outputs": [],
   "source": [
    "def camel_to_snake(camel: str) -> str:\n",
    "    \"\"\"\n",
    "    Convert a camelCase string to snake_case.\n",
    "    \"\"\"\n",
    "    snake = re.sub(r'(?<!^)(?=[A-Z])', '_', camel).lower()\n",
    "    return snake"
   ]
  },
  {
   "cell_type": "code",
   "execution_count": null,
   "id": "f0152630",
   "metadata": {},
   "outputs": [
    {
     "name": "stdout",
     "output_type": "stream",
     "text": [
      "Processing Enum: Scalar\n",
      "  Key: scalarFactorDescEn, Value: scalarFactorCode, Other keys: {'scalarFactorDescFr'}\n"
     ]
    },
    {
     "ename": "ValueError",
     "evalue": "Failed to process entry EnumEntry(key='units', value=0, comment=\"{'scalarFactorDescFr': 'unités'}\"). [{'scalarFactorCode': 0, 'scalarFactorDescEn': 'units', 'scalarFactorDescFr': 'unités'}, {'scalarFactorCode': 1, 'scalarFactorDescEn': 'tens', 'scalarFactorDescFr': 'dizaines'}, {'scalarFactorCode': 2, 'scalarFactorDescEn': 'hundreds', 'scalarFactorDescFr': 'centaines'}, {'scalarFactorCode': 3, 'scalarFactorDescEn': 'thousands', 'scalarFactorDescFr': 'milliers'}, {'scalarFactorCode': 4, 'scalarFactorDescEn': 'tens of thousands', 'scalarFactorDescFr': 'dizaines de milliers'}, {'scalarFactorCode': 5, 'scalarFactorDescEn': 'hundreds of thousands', 'scalarFactorDescFr': 'centaines de milliers'}, {'scalarFactorCode': 6, 'scalarFactorDescEn': 'millions', 'scalarFactorDescFr': 'millions'}, {'scalarFactorCode': 7, 'scalarFactorDescEn': 'tens of millions', 'scalarFactorDescFr': 'dizaines de millions'}, {'scalarFactorCode': 8, 'scalarFactorDescEn': 'hundreds of millions', 'scalarFactorDescFr': 'centaines de millions'}, {'scalarFactorCode': 9, 'scalarFactorDescEn': 'billions', 'scalarFactorDescFr': 'milliards'}]",
     "output_type": "error",
     "traceback": [
      "\u001b[31m---------------------------------------------------------------------------\u001b[39m",
      "\u001b[31mAttributeError\u001b[39m                            Traceback (most recent call last)",
      "\u001b[36mCell\u001b[39m\u001b[36m \u001b[39m\u001b[32mIn[27]\u001b[39m\u001b[32m, line 22\u001b[39m\n\u001b[32m     21\u001b[39m \u001b[38;5;28;01mtry\u001b[39;00m:\n\u001b[32m---> \u001b[39m\u001b[32m22\u001b[39m     \u001b[38;5;28mprint\u001b[39m(\u001b[33mf\u001b[39m\u001b[33m\"\u001b[39m\u001b[33m  \u001b[39m\u001b[38;5;132;01m{\u001b[39;00m\u001b[43me\u001b[49m\u001b[43m.\u001b[49m\u001b[43mto_string\u001b[49m()\u001b[38;5;132;01m}\u001b[39;00m\u001b[33m\"\u001b[39m)\n\u001b[32m     23\u001b[39m \u001b[38;5;28;01mexcept\u001b[39;00m \u001b[38;5;167;01mException\u001b[39;00m \u001b[38;5;28;01mas\u001b[39;00m ex:\n",
      "\u001b[31mAttributeError\u001b[39m: 'EnumEntry' object has no attribute 'to_string'",
      "\nThe above exception was the direct cause of the following exception:\n",
      "\u001b[31mValueError\u001b[39m                                Traceback (most recent call last)",
      "\u001b[36mCell\u001b[39m\u001b[36m \u001b[39m\u001b[32mIn[27]\u001b[39m\u001b[32m, line 24\u001b[39m\n\u001b[32m     22\u001b[39m         \u001b[38;5;28mprint\u001b[39m(\u001b[33mf\u001b[39m\u001b[33m\"\u001b[39m\u001b[33m  \u001b[39m\u001b[38;5;132;01m{\u001b[39;00me.to_string()\u001b[38;5;132;01m}\u001b[39;00m\u001b[33m\"\u001b[39m)\n\u001b[32m     23\u001b[39m     \u001b[38;5;28;01mexcept\u001b[39;00m \u001b[38;5;167;01mException\u001b[39;00m \u001b[38;5;28;01mas\u001b[39;00m ex:\n\u001b[32m---> \u001b[39m\u001b[32m24\u001b[39m         \u001b[38;5;28;01mraise\u001b[39;00m \u001b[38;5;167;01mValueError\u001b[39;00m(\u001b[33mf\u001b[39m\u001b[33m\"\u001b[39m\u001b[33mFailed to process entry \u001b[39m\u001b[38;5;132;01m{\u001b[39;00me\u001b[38;5;132;01m}\u001b[39;00m\u001b[33m. \u001b[39m\u001b[38;5;132;01m{\u001b[39;00mo[k]\u001b[38;5;132;01m}\u001b[39;00m\u001b[33m\"\u001b[39m) \u001b[38;5;28;01mfrom\u001b[39;00m\u001b[38;5;250m \u001b[39m\u001b[34;01mex\u001b[39;00m\n\u001b[32m     26\u001b[39m \u001b[38;5;28;01mwith\u001b[39;00m enum_file(fp=AUTO_ENUMS_PATH / \u001b[33m'\u001b[39m\u001b[33mwds\u001b[39m\u001b[33m'\u001b[39m / \u001b[33mf\u001b[39m\u001b[33m'\u001b[39m\u001b[38;5;132;01m{\u001b[39;00mcamel_to_snake(k)\u001b[38;5;132;01m}\u001b[39;00m\u001b[33m.py\u001b[39m\u001b[33m'\u001b[39m, imports={\u001b[33m'\u001b[39m\u001b[33menum\u001b[39m\u001b[33m'\u001b[39m: \u001b[33m'\u001b[39m\u001b[33mEnum\u001b[39m\u001b[33m'\u001b[39m}, overwrite=\u001b[38;5;28;01mTrue\u001b[39;00m) \u001b[38;5;28;01mas\u001b[39;00m f:\n\u001b[32m     27\u001b[39m     write_enum_class(f, entries=entries, cls_name=cls_name, skip_methods=\u001b[38;5;28;01mTrue\u001b[39;00m)\n",
      "\u001b[31mValueError\u001b[39m: Failed to process entry EnumEntry(key='units', value=0, comment=\"{'scalarFactorDescFr': 'unités'}\"). [{'scalarFactorCode': 0, 'scalarFactorDescEn': 'units', 'scalarFactorDescFr': 'unités'}, {'scalarFactorCode': 1, 'scalarFactorDescEn': 'tens', 'scalarFactorDescFr': 'dizaines'}, {'scalarFactorCode': 2, 'scalarFactorDescEn': 'hundreds', 'scalarFactorDescFr': 'centaines'}, {'scalarFactorCode': 3, 'scalarFactorDescEn': 'thousands', 'scalarFactorDescFr': 'milliers'}, {'scalarFactorCode': 4, 'scalarFactorDescEn': 'tens of thousands', 'scalarFactorDescFr': 'dizaines de milliers'}, {'scalarFactorCode': 5, 'scalarFactorDescEn': 'hundreds of thousands', 'scalarFactorDescFr': 'centaines de milliers'}, {'scalarFactorCode': 6, 'scalarFactorDescEn': 'millions', 'scalarFactorDescFr': 'millions'}, {'scalarFactorCode': 7, 'scalarFactorDescEn': 'tens of millions', 'scalarFactorDescFr': 'dizaines de millions'}, {'scalarFactorCode': 8, 'scalarFactorDescEn': 'hundreds of millions', 'scalarFactorDescFr': 'centaines de millions'}, {'scalarFactorCode': 9, 'scalarFactorDescEn': 'billions', 'scalarFactorDescFr': 'milliards'}]"
     ]
    }
   ],
   "source": [
    "for k, v in o.items():\n",
    "    entries: list[EnumEntry] = []\n",
    "    cls_name = k.title()\n",
    "    print(f'Processing Enum: {cls_name}')\n",
    "    key_key, value_key, remaining_keys = get_keys(v[0])\n",
    "    print(f\"  Key: {key_key}, Value: {value_key}, Other keys: {remaining_keys}\")\n",
    "    for entry_dict in v:\n",
    "        try:\n",
    "            entry_key = entry_dict[key_key]\n",
    "            entry_value = entry_dict[value_key]\n",
    "        except KeyError as ke:\n",
    "            print(f\"Error processing entry in {cls_name}: {ke}. Available keys are: {entry_dict.keys()}\")\n",
    "        entry_comment = str({k: v for k, v in entry_dict.items() if k in remaining_keys}) if remaining_keys else None\n",
    "        if entry_key is None:\n",
    "            entry_key = 'None'\n",
    "        entry = EnumEntry(key=entry_key, value=int(entry_value), comment=entry_comment)\n",
    "        \n",
    "        entries.append(entry)\n",
    "\n",
    "    # for e in entries:\n",
    "    #     try:\n",
    "    #         print(f\"  {e.to_string()}\")\n",
    "    #     except Exception as ex:\n",
    "    #         raise ValueError(f\"Failed to process entry {e}. {o[k]}\") from ex\n",
    "\n",
    "    with enum_file(fp=AUTO_ENUMS_PATH / 'wds' / f'{camel_to_snake(k)}.py', imports={'enum': 'Enum'}, overwrite=True) as f:\n",
    "        write_enum_class(f, entries=entries, cls_name=cls_name, skip_methods=True)\n",
    "    # print(f\"Key: {key_key}, Value: {value_key}\")\n",
    "    # print(f\"{k}: {v}\")"
   ]
  },
  {
   "cell_type": "code",
   "execution_count": null,
   "id": "0d18b376",
   "metadata": {},
   "outputs": [],
   "source": []
  }
 ],
 "metadata": {
  "kernelspec": {
   "display_name": ".venv (3.13.2)",
   "language": "python",
   "name": "python3"
  },
  "language_info": {
   "codemirror_mode": {
    "name": "ipython",
    "version": 3
   },
   "file_extension": ".py",
   "mimetype": "text/x-python",
   "name": "python",
   "nbconvert_exporter": "python",
   "pygments_lexer": "ipython3",
   "version": "3.13.2"
  }
 },
 "nbformat": 4,
 "nbformat_minor": 5
}
